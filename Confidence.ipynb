{
 "cells": [
  {
   "cell_type": "code",
   "execution_count": null,
   "metadata": {},
   "outputs": [],
   "source": [
    "beams = nlp.get_pipe(\"ner\").beam_parse([ doc ], beam_width = 16, beam_density = 0.0001)\n",
    "entity_scores = defaultdict(float)\n",
    "total_score = 0\n",
    "for score, ents in nlp.get_pipe(\"ner\").moves.get_beam_parses(beams[0]):\n",
    "  total_score += score\n",
    "  for start, end, label in ents:\n",
    "    entity_scores[(start, end, label)] += score\n",
    "normalized_beam_score = {dict_key: dict_value / total_score for dict_key, dict_value in\n",
    "entity_scores.items()}\n",
    "high_confidence_entities = filter_low_confidence_entities(normalized_beam_score, 0.9)\n",
    "high_confidence_entity_texts = {key: doc[int(key[0]): int(key[1])] for key, value in\n",
    "high_confidence_entities.items()}\n",
    "high_confidence_entity_texts_1 = {key[2]: doc[int(key[0]): int(key[1])] for key, value in\n",
    "high_confidence_entities.items()}\n",
    "#new_list = [[str(val),key] for key,val in high_confidence_entity_texts_1.items()]\n",
    "new_list = [[str(val), key[2], key[0], key[1]] for key, val in high_confidence_entity_texts.items()]"
   ]
  }
 ],
 "metadata": {
  "language_info": {
   "name": "python"
  },
  "orig_nbformat": 4
 },
 "nbformat": 4,
 "nbformat_minor": 2
}
